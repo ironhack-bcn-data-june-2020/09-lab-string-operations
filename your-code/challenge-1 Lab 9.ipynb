{
 "cells": [
  {
   "cell_type": "markdown",
   "metadata": {},
   "source": [
    "# String Operations Lab\n",
    "\n",
    "**Before your start:**\n",
    "\n",
    "- Read the README.md file\n",
    "- Comment as much as you can and use the resources in the README.md file\n",
    "- Happy learning!"
   ]
  },
  {
   "cell_type": "code",
   "execution_count": 2,
   "metadata": {
    "ExecuteTime": {
     "end_time": "2020-07-06T15:26:51.851643Z",
     "start_time": "2020-07-06T15:26:51.849617Z"
    }
   },
   "outputs": [],
   "source": [
    "import re"
   ]
  },
  {
   "cell_type": "markdown",
   "metadata": {},
   "source": [
    "# Challenge 1 - Combining Strings\n",
    "\n",
    "Combining strings is an important skill to acquire. There are multiple ways of combining strings in Python, as well as combining strings with variables. We will explore this in the first challenge. In the cell below, combine the strings in the list and add spaces between the strings (do not add a space after the last string). Insert a period after the last string."
   ]
  },
  {
   "cell_type": "code",
   "execution_count": 32,
   "metadata": {
    "ExecuteTime": {
     "end_time": "2020-07-06T18:01:48.314391Z",
     "start_time": "2020-07-06T18:01:48.310880Z"
    }
   },
   "outputs": [
    {
     "name": "stdout",
     "output_type": "stream",
     "text": [
      "Durante un tiempo no estuvo segura de si su marido era su marido.\n"
     ]
    }
   ],
   "source": [
    "str_list = ['Durante', 'un', 'tiempo', 'no', 'estuvo', 'segura', 'de', 'si', 'su', 'marido', 'era', 'su', 'marido']\n",
    "frase = \" \".join(str_list)\n",
    "print((frase) + '.')"
   ]
  },
  {
   "cell_type": "markdown",
   "metadata": {},
   "source": [
    "In the cell below, use the list of strings to create a grocery list. Start the list with the string `Grocery list: ` and include a comma and a space between each item except for the last one. Include a period at the end. Only include foods in the list that start with the letter 'b' and ensure all foods are lower case."
   ]
  },
  {
   "cell_type": "code",
   "execution_count": 42,
   "metadata": {
    "ExecuteTime": {
     "end_time": "2020-07-06T20:57:19.346556Z",
     "start_time": "2020-07-06T20:57:19.343410Z"
    }
   },
   "outputs": [
    {
     "name": "stdout",
     "output_type": "stream",
     "text": [
      "Grocery list: bread, broccoli.\n"
     ]
    }
   ],
   "source": [
    "food_list = ['Bananas', 'Chocolate', 'bread', 'diapers', 'Ice Cream', 'Brownie Mix', 'broccoli']\n",
    "title = \"Grocery list: \"\n",
    "newlist = [i for i in food_list if i.startswith(\"b\")]\n",
    "cleanlist = title + \", \".join(newlist)\n",
    "print((cleanlist) + \".\")                  #OOoooohhh yeahhhh"
   ]
  },
  {
   "cell_type": "markdown",
   "metadata": {},
   "source": [
    "In the cell below, write a function that computes the area of a circle using its radius. Compute the area of the circle and insert the radius and the area between the two strings. Make sure to include spaces between the variable and the strings. \n",
    "\n",
    "Note: You can use the techniques we have learned so far or use f-strings. F-strings allow us to embed code inside strings. You can read more about f-strings [here](https://www.python.org/dev/peps/pep-0498/)."
   ]
  },
  {
   "cell_type": "code",
   "execution_count": 63,
   "metadata": {
    "ExecuteTime": {
     "end_time": "2020-07-06T21:50:47.044606Z",
     "start_time": "2020-07-06T21:50:47.039637Z"
    }
   },
   "outputs": [
    {
     "data": {
      "text/plain": [
       "'The area of the circle with radius: 4.5 is: 63.61725123519331'"
      ]
     },
     "execution_count": 63,
     "metadata": {},
     "output_type": "execute_result"
    }
   ],
   "source": [
    "import math\n",
    "\n",
    "string1 = \"The area of the circle with radius:\"\n",
    "string2  = \"is:\"\n",
    "radius = 4.5\n",
    "\n",
    "def area(x, pi = math.pi):\n",
    "    return f'{string1} {radius} {string2} {pi * (radius ** 2)}'\n",
    "area(5.0)\n"
   ]
  },
  {
   "cell_type": "markdown",
   "metadata": {},
   "source": [
    "# Challenge 2 - Splitting Strings\n",
    "\n",
    "We have first looked at combining strings into one long string. There are times where we need to do the opposite and split the string into smaller components for further analysis. \n",
    "\n",
    "In the cell below, split the string into a list of strings using the space delimiter. Count the frequency of each word in the string in a dictionary. Strip the periods, line breaks and commas from the text. Make sure to remove empty strings from your dictionary."
   ]
  },
  {
   "cell_type": "code",
   "execution_count": 103,
   "metadata": {
    "ExecuteTime": {
     "end_time": "2020-07-06T22:14:27.578569Z",
     "start_time": "2020-07-06T22:14:27.572219Z"
    }
   },
   "outputs": [
    {
     "name": "stdout",
     "output_type": "stream",
     "text": [
      "['Some', 'say', 'the', 'world', 'will', 'end', 'in', 'fire,\\nSome', 'say', 'in', 'ice.\\nFrom', 'what', 'I’ve', 'tasted', 'of', 'desire\\nI', 'hold', 'with', 'those', 'who', 'favor', 'fire.\\nBut', 'if', 'it', 'had', 'to', 'perish', 'twice,\\nI', 'think', 'I', 'know', 'enough', 'of', 'hate\\nTo', 'say', 'that', 'for', 'destruction', 'ice\\nIs', 'also', 'great\\nAnd', 'would', 'suffice.']\n"
     ]
    },
    {
     "data": {
      "text/plain": [
       "[('say', 3),\n",
       " ('I', 3),\n",
       " ('Some', 2),\n",
       " ('in', 2),\n",
       " ('of', 2),\n",
       " ('the', 1),\n",
       " ('world', 1),\n",
       " ('will', 1),\n",
       " ('end', 1),\n",
       " ('fire,', 1),\n",
       " ('ice.', 1),\n",
       " ('From', 1),\n",
       " ('what', 1),\n",
       " ('I’ve', 1),\n",
       " ('tasted', 1),\n",
       " ('desire', 1),\n",
       " ('hold', 1),\n",
       " ('with', 1),\n",
       " ('those', 1),\n",
       " ('who', 1),\n",
       " ('favor', 1),\n",
       " ('fire.', 1),\n",
       " ('But', 1),\n",
       " ('if', 1),\n",
       " ('it', 1),\n",
       " ('had', 1),\n",
       " ('to', 1),\n",
       " ('perish', 1),\n",
       " ('twice,', 1),\n",
       " ('think', 1),\n",
       " ('know', 1),\n",
       " ('enough', 1),\n",
       " ('hate', 1),\n",
       " ('To', 1),\n",
       " ('that', 1),\n",
       " ('for', 1),\n",
       " ('destruction', 1),\n",
       " ('ice', 1),\n",
       " ('Is', 1),\n",
       " ('also', 1),\n",
       " ('great', 1),\n",
       " ('And', 1),\n",
       " ('would', 1),\n",
       " ('suffice.', 1)]"
      ]
     },
     "execution_count": 103,
     "metadata": {},
     "output_type": "execute_result"
    }
   ],
   "source": [
    "from collections import Counter\n",
    "\n",
    "poem = \"\"\"Some say the world will end in fire,\n",
    "Some say in ice.\n",
    "From what I’ve tasted of desire\n",
    "I hold with those who favor fire.\n",
    "But if it had to perish twice,\n",
    "I think I know enough of hate\n",
    "To say that for destruction ice\n",
    "Is also great\n",
    "And would suffice.\"\"\"\n",
    "\n",
    "split_poem = poem.split(\" \")        #aquí le hago separar por string el poema\n",
    "print(split_poem)\n",
    "\n",
    "Counter(poem.split()).most_common()     #aquí le hago un dicc con las 15 palabras más populares y su count"
   ]
  },
  {
   "cell_type": "markdown",
   "metadata": {},
   "source": [
    "In the cell below, find all the words that appear in the text and do not appear in the blacklist. You must parse the string but can choose any data structure you wish for the words that do not appear in the blacklist. Remove all non letter characters and convert all words to lower case."
   ]
  },
  {
   "cell_type": "code",
   "execution_count": 118,
   "metadata": {
    "ExecuteTime": {
     "end_time": "2020-07-07T07:52:09.680112Z",
     "start_time": "2020-07-07T07:52:09.674897Z"
    }
   },
   "outputs": [
    {
     "name": "stdout",
     "output_type": "stream",
     "text": [
      "{'', 'he', 'told', 'deceitful', 'wiles', 'bright', 'apple', 'pole', 'foe', 'see', 'day', 'my', 'friend', 'sunned', 'when', 'end', 'fears', 'was', 'had', 'did', 'till', 'bore', 'glad', 'stole', 'night', 'wrath', 'both', 'with', 'i', 'morning', 'tears', 'grow', 'knew', 'mine', 'shine', 'tree', 'into', '&', 'waterd', 'that', 'grew', 'soft', 'outstretched', 'not', 'beheld', 'garden', 'veild', 'beneath', 'smiles', 'angry'}\n"
     ]
    }
   ],
   "source": [
    "blacklist = ['and', 'as', 'an', 'a', 'the', 'in', 'it']\n",
    "\n",
    "poem = \"\"\"I was angry with my friend; \n",
    "I told my wrath, my wrath did end.\n",
    "I was angry with my foe: \n",
    "I told it not, my wrath did grow. \n",
    "\n",
    "And I waterd it in fears,\n",
    "Night & morning with my tears: \n",
    "And I sunned it with smiles,\n",
    "And with soft deceitful wiles. \n",
    "\n",
    "And it grew both day and night. \n",
    "Till it bore an apple bright. \n",
    "And my foe beheld it shine,\n",
    "And he knew that it was mine. \n",
    "\n",
    "And into my garden stole, \n",
    "When the night had veild the pole; \n",
    "In the morning glad I see; \n",
    "My foe outstretched beneath the tree.\"\"\"\n",
    "\n",
    "# Your code here:\n",
    "\n",
    "clean_poem = poem.replace(\"\\n\", \" \").replace(\";\", \"\").replace(\",\", \"\").replace(\".\", \"\").replace(\":\", \"\")\n",
    "#print(clean_poem)     #quitar todos los non letter characters\n",
    "\n",
    "clean_poem_lower = clean_poem.casefold()\n",
    "#print(clean_poem_lower)       #cambiar mayúsculas por minúsculas\n",
    "\n",
    "clean_poem_list = clean_poem_lower.split(\" \")\n",
    "#print(clean_poem_list)      #dividir el mega string por espacios convirtiéndolo en una list\n",
    "\n",
    "set_poem = set(clean_poem_list)\n",
    "#print(set_poem)         #crear sets (listas de valores únicos) con el contenido de poem\n",
    "\n",
    "set_blacklist = set(blacklist)\n",
    "#print(set_blacklist)      #crear sets (listas de valores únicos) con el contenido de blacklist\n",
    "\n",
    "deduction = set_poem.difference(set_blacklist)\n",
    "print(deduction)       #quitar de poem todos los elementos en blacklist"
   ]
  },
  {
   "cell_type": "markdown",
   "metadata": {},
   "source": [
    "# Challenge 3 - Regular Expressions\n",
    "\n",
    "Sometimes, we would like to perform more complex manipulations of our string. This is where regular expressions come in handy. In the cell below, return all characters that are upper case from the string specified below."
   ]
  },
  {
   "cell_type": "code",
   "execution_count": 125,
   "metadata": {
    "ExecuteTime": {
     "end_time": "2020-07-07T08:19:09.043442Z",
     "start_time": "2020-07-07T08:19:09.040343Z"
    }
   },
   "outputs": [
    {
     "name": "stdout",
     "output_type": "stream",
     "text": [
      "['T', 'P']\n"
     ]
    }
   ],
   "source": [
    "import re\n",
    "\n",
    "poem2 = \"\"\"The apparition of these faces in the crowd;\n",
    "Petals on a wet, black bough.\"\"\"\n",
    "\n",
    "# Your code here:\n",
    "poem_capitals = re.findall(\"[A-Z]\",poem2)   #que te encuentre todas las mayúsculas en el texto poem2\n",
    "print(poem_capitals)"
   ]
  },
  {
   "cell_type": "markdown",
   "metadata": {},
   "source": [
    "In the cell below, filter the list provided and return all elements of the list containing a number. To filter the list, use the `re.search` function. Check if the function does not return `None`. You can read more about the `re.search` function [here](https://docs.python.org/3/library/re.html)."
   ]
  },
  {
   "cell_type": "code",
   "execution_count": 139,
   "metadata": {
    "ExecuteTime": {
     "end_time": "2020-07-07T08:29:28.384630Z",
     "start_time": "2020-07-07T08:29:28.381266Z"
    }
   },
   "outputs": [
    {
     "name": "stdout",
     "output_type": "stream",
     "text": [
      "[<re.Match object; span=(0, 1), match='1'>, <re.Match object; span=(3, 4), match='1'>, <re.Match object; span=(9, 10), match='1'>, <re.Match object; span=(4, 5), match='4'>, None]\n"
     ]
    }
   ],
   "source": [
    "data = ['123abc', 'abc123', 'JohnSmith1', 'ABBY4', 'JANE']\n",
    "\n",
    "# Your code here:\n",
    "\n",
    "data_num = []\n",
    "for i in data:\n",
    "    data_num.append((re.search(\"[0-9]\", i)))\n",
    "print(data_num)\n"
   ]
  },
  {
   "cell_type": "markdown",
   "metadata": {},
   "source": [
    "# Bonus Challenge - Regular Expressions II\n",
    "\n",
    "In the cell below, filter the list provided to keep only strings containing at least one digit and at least one lower case letter. As in the previous question, use the `re.search` function and check that the result is not `None`.\n",
    "\n",
    "To read more about regular expressions, check out [this link](https://developers.google.com/edu/python/regular-expressions)."
   ]
  },
  {
   "cell_type": "code",
   "execution_count": null,
   "metadata": {},
   "outputs": [],
   "source": [
    "data = ['123abc', 'abc123', 'JohnSmith1', 'ABBY4', 'JANE']\n",
    "# Your code here:\n"
   ]
  }
 ],
 "metadata": {
  "kernelspec": {
   "display_name": "Python 3",
   "language": "python",
   "name": "python3"
  },
  "language_info": {
   "codemirror_mode": {
    "name": "ipython",
    "version": 3
   },
   "file_extension": ".py",
   "mimetype": "text/x-python",
   "name": "python",
   "nbconvert_exporter": "python",
   "pygments_lexer": "ipython3",
   "version": "3.7.6"
  },
  "toc": {
   "base_numbering": 1,
   "nav_menu": {},
   "number_sections": true,
   "sideBar": true,
   "skip_h1_title": true,
   "title_cell": "Table of Contents",
   "title_sidebar": "Contents",
   "toc_cell": false,
   "toc_position": {},
   "toc_section_display": true,
   "toc_window_display": false
  },
  "varInspector": {
   "cols": {
    "lenName": 16,
    "lenType": 16,
    "lenVar": 40
   },
   "kernels_config": {
    "python": {
     "delete_cmd_postfix": "",
     "delete_cmd_prefix": "del ",
     "library": "var_list.py",
     "varRefreshCmd": "print(var_dic_list())"
    },
    "r": {
     "delete_cmd_postfix": ") ",
     "delete_cmd_prefix": "rm(",
     "library": "var_list.r",
     "varRefreshCmd": "cat(var_dic_list()) "
    }
   },
   "types_to_exclude": [
    "module",
    "function",
    "builtin_function_or_method",
    "instance",
    "_Feature"
   ],
   "window_display": false
  }
 },
 "nbformat": 4,
 "nbformat_minor": 2
}
