{
 "cells": [
  {
   "cell_type": "markdown",
   "metadata": {},
   "source": [
    "# String Operations Lab\n",
    "\n",
    "**Before your start:**\n",
    "\n",
    "- Read the README.md file\n",
    "- Comment as much as you can and use the resources in the README.md file\n",
    "- Happy learning!"
   ]
  },
  {
   "cell_type": "code",
   "execution_count": 2,
   "metadata": {},
   "outputs": [],
   "source": [
    "import re"
   ]
  },
  {
   "cell_type": "markdown",
   "metadata": {},
   "source": [
    "# Challenge 1 - Combining Strings\n",
    "\n",
    "Combining strings is an important skill to acquire. There are multiple ways of combining strings in Python, as well as combining strings with variables. We will explore this in the first challenge. In the cell below, combine the strings in the list and add spaces between the strings (do not add a space after the last string). Insert a period after the last string."
   ]
  },
  {
   "cell_type": "code",
   "execution_count": 11,
   "metadata": {},
   "outputs": [
    {
     "name": "stdout",
     "output_type": "stream",
     "text": [
      "Durante un tiempo no estuvo segura de si su marido era su marido\n",
      "64\n",
      "o\n"
     ]
    }
   ],
   "source": [
    "str_list = ['Durante', 'un', 'tiempo', 'no', 'estuvo', 'segura', 'de', 'si', 'su', 'marido', 'era', 'su', 'marido']\n",
    "# Your code here:\n",
    "\n",
    "from functools import reduce\n",
    "    \n",
    "str_list_combined = reduce(lambda a,b: a + \" \" + b, str_list)\n",
    "print(str_list_combined)\n",
    "\n",
    "# Imprimimos el último carácter para asegurarnos de que no es un espacio\n",
    "\n",
    "print(str_list_combined[-1])"
   ]
  },
  {
   "cell_type": "markdown",
   "metadata": {},
   "source": [
    "In the cell below, use the list of strings to create a grocery list. Start the list with the string `Grocery list: ` and include a comma and a space between each item except for the last one. Include a period at the end. Only include foods in the list that start with the letter 'b' and ensure all foods are lower case."
   ]
  },
  {
   "cell_type": "code",
   "execution_count": 26,
   "metadata": {},
   "outputs": [
    {
     "data": {
      "text/plain": [
       "['bananas', 'bread', 'brownie mix', 'broccoli']"
      ]
     },
     "execution_count": 26,
     "metadata": {},
     "output_type": "execute_result"
    }
   ],
   "source": [
    "food_list = ['Bananas', 'Chocolate', 'bread', 'diapers', 'Ice Cream', 'Brownie Mix', 'broccoli']\n",
    "# Your code here:\n",
    "\n",
    "# Primero creamos una lista con todos los elementos de food_list en minúscula que empiecen por 'b'\n",
    "\n",
    "food_list_b = [a.lower() for a in food_list if a.lower().startswith('b')]\n",
    "food_list_b\n"
   ]
  },
  {
   "cell_type": "code",
   "execution_count": 27,
   "metadata": {},
   "outputs": [
    {
     "data": {
      "text/plain": [
       "'Grocery list: bananas, bread, brownie mix, broccoli.'"
      ]
     },
     "execution_count": 27,
     "metadata": {},
     "output_type": "execute_result"
    }
   ],
   "source": [
    "# Ahora creamos la lista concatenando los elementos que faltan con el reduce que une los strings de food_list_b\n",
    "\n",
    "grocery_list = \"Grocery list: \" + reduce(lambda a,b: a + \", \" + b, food_list_b) + \".\"\n",
    "grocery_list"
   ]
  },
  {
   "cell_type": "markdown",
   "metadata": {},
   "source": [
    "In the cell below, write a function that computes the area of a circle using its radius. Compute the area of the circle and insert the radius and the area between the two strings. Make sure to include spaces between the variable and the strings. \n",
    "\n",
    "Note: You can use the techniques we have learned so far or use f-strings. F-strings allow us to embed code inside strings. You can read more about f-strings [here](https://www.python.org/dev/peps/pep-0498/)."
   ]
  },
  {
   "cell_type": "code",
   "execution_count": 34,
   "metadata": {},
   "outputs": [
    {
     "name": "stdout",
     "output_type": "stream",
     "text": [
      "The area of the circle with radius 4.5 is: 63.61725123519331\n"
     ]
    }
   ],
   "source": [
    "import math\n",
    "\n",
    "string1 = \"The area of the circle with radius:\"\n",
    "string2  = \"is:\"\n",
    "radius = 4.5\n",
    "\n",
    "def area(x, pi = math.pi):\n",
    "    # This function takes a radius and returns the area of a circle. We also pass a default value for pi.\n",
    "    # Input: Float (and default value for pi)\n",
    "    # Output: Float\n",
    "    \n",
    "    # Sample input: 5.0\n",
    "    # Sample Output: 78.53\n",
    "    \n",
    "    # Your code here:\n",
    "    \n",
    "    return math.pi * x**2\n",
    "\n",
    "area(5)\n",
    "    \n",
    "# Your output string here: \n",
    "\n",
    "# He combinado string formateado con string no formateado\n",
    "\n",
    "print(f'The area of the circle with radius {radius} {string2} {area(radius)}')\n"
   ]
  },
  {
   "cell_type": "markdown",
   "metadata": {},
   "source": [
    "# Challenge 2 - Splitting Strings\n",
    "\n",
    "We have first looked at combining strings into one long string. There are times where we need to do the opposite and split the string into smaller components for further analysis. \n",
    "\n",
    "In the cell below, split the string into a list of strings using the space delimiter. Count the frequency of each word in the string in a dictionary. Strip the periods, line breaks and commas from the text. Make sure to remove empty strings from your dictionary."
   ]
  },
  {
   "cell_type": "code",
   "execution_count": 48,
   "metadata": {},
   "outputs": [
    {
     "name": "stdout",
     "output_type": "stream",
     "text": [
      "['some', 'say', 'the', 'world', 'will', 'end', 'in', 'fire', 'some', 'say', 'in', 'ice', 'from', 'what', 'i', 'have', 'tasted', 'of', 'desire', 'i', 'hold', 'with', 'those', 'who', 'favor', 'fire', 'but', 'if', 'it', 'had', 'to', 'perish', 'twice', 'i', 'think', 'i', 'know', 'enough', 'of', 'hate', 'to', 'say', 'that', 'for', 'destruction', 'ice', 'is', 'also', 'great', 'and', 'would', 'suffice']\n"
     ]
    }
   ],
   "source": [
    "poem = \"\"\"Some say the world will end in fire,\n",
    "Some say in ice.\n",
    "From what I’ve tasted of desire\n",
    "I hold with those who favor fire.\n",
    "But if it had to perish twice,\n",
    "I think I know enough of hate\n",
    "To say that for destruction ice\n",
    "Is also great\n",
    "And would suffice.\"\"\"\n",
    "\n",
    "# Your code here:\n",
    "\n",
    "# Sustituimos las comas y puntos por nada (es decir, borramos), los \\n por espacios y \"I've\" por \"I have\"\n",
    "poem_clean = poem.replace(',','').replace('.','').replace('\\n',' ').replace(\"I’ve\",'I have').lower()\n",
    "list_poem_clean = poem_clean.split()\n",
    "print(list_poem_clean)"
   ]
  },
  {
   "cell_type": "code",
   "execution_count": 65,
   "metadata": {},
   "outputs": [
    {
     "name": "stdout",
     "output_type": "stream",
     "text": [
      "{'say', 'have', 'it', 'had', 'desire', 'to', 'those', 'world', 'end', 'that', 'would', 'will', 'is', 'from', 'in', 'i', 'tasted', 'ice', 'some', 'what', 'twice', 'know', 'hate', 'fire', 'the', 'who', 'with', 'hold', 'of', 'but', 'enough', 'also', 'and', 'destruction', 'for', 'suffice', 'if', 'great', 'perish', 'favor', 'think'}\n"
     ]
    }
   ],
   "source": [
    "# Sacamos el set de la lista anterior para borrar duplicados. Este será nuestro iterable\n",
    "poemset = set(list_poem_clean)\n",
    "print(poemset)"
   ]
  },
  {
   "cell_type": "code",
   "execution_count": 71,
   "metadata": {},
   "outputs": [
    {
     "data": {
      "text/plain": [
       "{'say': 3,\n",
       " 'have': 1,\n",
       " 'it': 1,\n",
       " 'had': 1,\n",
       " 'desire': 1,\n",
       " 'to': 2,\n",
       " 'those': 1,\n",
       " 'world': 1,\n",
       " 'end': 1,\n",
       " 'that': 1,\n",
       " 'would': 1,\n",
       " 'will': 1,\n",
       " 'is': 1,\n",
       " 'from': 1,\n",
       " 'in': 2,\n",
       " 'i': 4,\n",
       " 'tasted': 1,\n",
       " 'ice': 2,\n",
       " 'some': 2,\n",
       " 'what': 1,\n",
       " 'twice': 1,\n",
       " 'know': 1,\n",
       " 'hate': 1,\n",
       " 'fire': 2,\n",
       " 'the': 1,\n",
       " 'who': 1,\n",
       " 'with': 1,\n",
       " 'hold': 1,\n",
       " 'of': 2,\n",
       " 'but': 1,\n",
       " 'enough': 1,\n",
       " 'also': 1,\n",
       " 'and': 1,\n",
       " 'destruction': 1,\n",
       " 'for': 1,\n",
       " 'suffice': 1,\n",
       " 'if': 1,\n",
       " 'great': 1,\n",
       " 'perish': 1,\n",
       " 'favor': 1,\n",
       " 'think': 1}"
      ]
     },
     "execution_count": 71,
     "metadata": {},
     "output_type": "execute_result"
    }
   ],
   "source": [
    "# Ahora creamos un diccionario con la cantidad de apariciones en la lista anterior con un dictionary comprehension\n",
    "\n",
    "\n",
    "# Usamos la sintaxis del dictionary comprehension más reciente\n",
    "# d = {k:v for k, v in iterable}\n",
    "\n",
    "freq = {x:list_poem_clean.count(x) for x in poemset}\n",
    "freq\n",
    "\n",
    "# Aunque se podría haber hecho también de la siguiente forma\n",
    "\n",
    "# dict([(x, list_poem_clean.count(x)) for x in poemset])"
   ]
  },
  {
   "cell_type": "code",
   "execution_count": 70,
   "metadata": {},
   "outputs": [
    {
     "data": {
      "text/plain": [
       "[('i', 4),\n",
       " ('say', 3),\n",
       " ('some', 2),\n",
       " ('in', 2),\n",
       " ('fire', 2),\n",
       " ('ice', 2),\n",
       " ('of', 2),\n",
       " ('to', 2),\n",
       " ('the', 1),\n",
       " ('world', 1),\n",
       " ('will', 1),\n",
       " ('end', 1),\n",
       " ('from', 1),\n",
       " ('what', 1),\n",
       " ('have', 1),\n",
       " ('tasted', 1),\n",
       " ('desire', 1),\n",
       " ('hold', 1),\n",
       " ('with', 1),\n",
       " ('those', 1),\n",
       " ('who', 1),\n",
       " ('favor', 1),\n",
       " ('but', 1),\n",
       " ('if', 1),\n",
       " ('it', 1),\n",
       " ('had', 1),\n",
       " ('perish', 1),\n",
       " ('twice', 1),\n",
       " ('think', 1),\n",
       " ('know', 1),\n",
       " ('enough', 1),\n",
       " ('hate', 1),\n",
       " ('that', 1),\n",
       " ('for', 1),\n",
       " ('destruction', 1),\n",
       " ('is', 1),\n",
       " ('also', 1),\n",
       " ('great', 1),\n",
       " ('and', 1),\n",
       " ('would', 1),\n",
       " ('suffice', 1)]"
      ]
     },
     "execution_count": 70,
     "metadata": {},
     "output_type": "execute_result"
    }
   ],
   "source": [
    "# Así las tendríamos ordenadas por número de apariciones\n",
    "\n",
    "from collections import Counter\n",
    "\n",
    "newfreq = Counter(list_poem_clean)\n",
    "newfreq.most_common()"
   ]
  },
  {
   "cell_type": "markdown",
   "metadata": {},
   "source": [
    "In the cell below, find all the words that appear in the text and do not appear in the blacklist. You must parse the string but can choose any data structure you wish for the words that do not appear in the blacklist. Remove all non letter characters and convert all words to lower case."
   ]
  },
  {
   "cell_type": "code",
   "execution_count": 73,
   "metadata": {},
   "outputs": [
    {
     "data": {
      "text/plain": [
       "'i was angry with my friend  i told my wrath my wrath did end i was angry with my foe  i told it not my wrath did grow   and i waterd it in fears night  morning with my tears  and i sunned it with smiles and with soft deceitful wiles   and it grew both day and night  till it bore an apple bright  and my foe beheld it shine and he knew that it was mine   and into my garden stole  when the night had veild the pole  in the morning glad i see  my foe outstretched beneath the tree'"
      ]
     },
     "execution_count": 73,
     "metadata": {},
     "output_type": "execute_result"
    }
   ],
   "source": [
    "blacklist = ['and', 'as', 'an', 'a', 'the', 'in', 'it']\n",
    "\n",
    "poem = \"\"\"I was angry with my friend; \n",
    "I told my wrath, my wrath did end.\n",
    "I was angry with my foe: \n",
    "I told it not, my wrath did grow. \n",
    "\n",
    "And I waterd it in fears,\n",
    "Night & morning with my tears: \n",
    "And I sunned it with smiles,\n",
    "And with soft deceitful wiles. \n",
    "\n",
    "And it grew both day and night. \n",
    "Till it bore an apple bright. \n",
    "And my foe beheld it shine,\n",
    "And he knew that it was mine. \n",
    "\n",
    "And into my garden stole, \n",
    "When the night had veild the pole; \n",
    "In the morning glad I see; \n",
    "My foe outstretched beneath the tree.\"\"\"\n",
    "\n",
    "# Your code here:\n",
    "\n",
    "# Primero quitamos los signos de puntuación y convertimos a minúsculas\n",
    "poemwords = poem.replace(';','').replace(',','').replace(':','').replace('.','').replace('\\n',' ').replace('&','').lower()\n",
    "poemwords\n"
   ]
  },
  {
   "cell_type": "code",
   "execution_count": 91,
   "metadata": {},
   "outputs": [
    {
     "name": "stdout",
     "output_type": "stream",
     "text": [
      "I was angry with my friend \n",
      "I told my wrath my wrath did end\n",
      "I was angry with my foe \n",
      "I told it not my wrath did grow \n",
      "\n",
      "And I waterd it in fears\n",
      "Night  morning with my tears \n",
      "And I sunned it with smiles\n",
      "And with soft deceitful wiles \n",
      "\n",
      "And it grew both day and night \n",
      "Till it bore an apple bright \n",
      "And my foe beheld it shine\n",
      "And he knew that it was mine \n",
      "\n",
      "And into my garden stole \n",
      "When the night had veild the pole \n",
      "In the morning glad I see \n",
      "My foe outstretched beneath the tree\n"
     ]
    }
   ],
   "source": [
    "# EXTRA: PARA ELIMINAR LOS SIGNOS DE PUNTIACIÓN, QUIZÁS SEA MÁS EFICIENTE HACER UNA LISTA CON LOS MÁS FRECUENTES\n",
    "# E ITERAR A TRAVÉS DE ELLA.\n",
    "\n",
    "poema = \"\"\"I was angry with my friend; \n",
    "I told my wrath, my wrath did end.\n",
    "I was angry with my foe: \n",
    "I told it not, my wrath did grow. \n",
    "\n",
    "And I waterd it in fears,\n",
    "Night & morning with my tears: \n",
    "And I sunned it with smiles,\n",
    "And with soft deceitful wiles. \n",
    "\n",
    "And it grew both day and night. \n",
    "Till it bore an apple bright. \n",
    "And my foe beheld it shine,\n",
    "And he knew that it was mine. \n",
    "\n",
    "And into my garden stole, \n",
    "When the night had veild the pole; \n",
    "In the morning glad I see; \n",
    "My foe outstretched beneath the tree.\"\"\"\n",
    "\n",
    "# Your code here:\n",
    "\n",
    "# Primero quitamos los signos de puntuación y convertimos a minúsculas\n",
    "\n",
    "eliminar = [';', ',', ':', '.', '&']\n",
    "poema3 = poema #si no se crea esta línea y abajo se pone poema=poema3.replace(a,'') sólo replazará el último carácter\n",
    "for a in eliminar:\n",
    "    poema3 = poema3.replace(a,'')\n",
    "print(poema3)"
   ]
  },
  {
   "cell_type": "code",
   "execution_count": 74,
   "metadata": {},
   "outputs": [
    {
     "name": "stdout",
     "output_type": "stream",
     "text": [
      "['i', 'was', 'angry', 'with', 'my', 'friend', 'i', 'told', 'my', 'wrath', 'my', 'wrath', 'did', 'end', 'i', 'was', 'angry', 'with', 'my', 'foe', 'i', 'told', 'it', 'not', 'my', 'wrath', 'did', 'grow', 'and', 'i', 'waterd', 'it', 'in', 'fears', 'night', 'morning', 'with', 'my', 'tears', 'and', 'i', 'sunned', 'it', 'with', 'smiles', 'and', 'with', 'soft', 'deceitful', 'wiles', 'and', 'it', 'grew', 'both', 'day', 'and', 'night', 'till', 'it', 'bore', 'an', 'apple', 'bright', 'and', 'my', 'foe', 'beheld', 'it', 'shine', 'and', 'he', 'knew', 'that', 'it', 'was', 'mine', 'and', 'into', 'my', 'garden', 'stole', 'when', 'the', 'night', 'had', 'veild', 'the', 'pole', 'in', 'the', 'morning', 'glad', 'i', 'see', 'my', 'foe', 'outstretched', 'beneath', 'the', 'tree']\n"
     ]
    }
   ],
   "source": [
    "# Ahora hacemos una lista con estas palabras usando split\n",
    "\n",
    "poemlist = poemwords.split()\n",
    "print(poemlist)"
   ]
  },
  {
   "cell_type": "code",
   "execution_count": 76,
   "metadata": {},
   "outputs": [
    {
     "name": "stdout",
     "output_type": "stream",
     "text": [
      "['had', 'outstretched', 'smiles', 'day', 'apple', 'wrath', 'not', 'fears', 'veild', 'pole', 'end', 'that', 'till', 'tears', 'bright', 'told', 'my', 'i', 'did', 'waterd', 'grew', 'see', 'morning', 'tree', 'glad', 'when', 'shine', 'bore', 'deceitful', 'knew', 'he', 'garden', 'foe', 'night', 'wiles', 'was', 'angry', 'both', 'beneath', 'friend', 'with', 'beheld', 'into', 'mine', 'stole', 'grow', 'sunned', 'soft']\n"
     ]
    }
   ],
   "source": [
    "# Hacemos list comprehension para iterar las palabras del set de la lista de palabras anterior (sin duplicados)\n",
    "\n",
    "# Las iteramos sobre la blacklist\n",
    "\n",
    "notinblacklist = [a for a in list(set(poemlist)) if a not in blacklist]\n",
    "print(notinblacklist)"
   ]
  },
  {
   "cell_type": "code",
   "execution_count": 77,
   "metadata": {},
   "outputs": [
    {
     "data": {
      "text/plain": [
       "{'had': 1,\n",
       " 'outstretched': 1,\n",
       " 'smiles': 1,\n",
       " 'day': 1,\n",
       " 'apple': 1,\n",
       " 'wrath': 3,\n",
       " 'not': 1,\n",
       " 'fears': 1,\n",
       " 'veild': 1,\n",
       " 'pole': 1,\n",
       " 'end': 1,\n",
       " 'that': 1,\n",
       " 'till': 1,\n",
       " 'tears': 1,\n",
       " 'bright': 1,\n",
       " 'told': 2,\n",
       " 'my': 9,\n",
       " 'i': 7,\n",
       " 'did': 2,\n",
       " 'waterd': 1,\n",
       " 'grew': 1,\n",
       " 'see': 1,\n",
       " 'morning': 2,\n",
       " 'tree': 1,\n",
       " 'glad': 1,\n",
       " 'when': 1,\n",
       " 'shine': 1,\n",
       " 'bore': 1,\n",
       " 'deceitful': 1,\n",
       " 'knew': 1,\n",
       " 'he': 1,\n",
       " 'garden': 1,\n",
       " 'foe': 3,\n",
       " 'night': 3,\n",
       " 'wiles': 1,\n",
       " 'was': 3,\n",
       " 'angry': 2,\n",
       " 'both': 1,\n",
       " 'beneath': 1,\n",
       " 'friend': 1,\n",
       " 'with': 5,\n",
       " 'beheld': 1,\n",
       " 'into': 1,\n",
       " 'mine': 1,\n",
       " 'stole': 1,\n",
       " 'grow': 1,\n",
       " 'sunned': 1,\n",
       " 'soft': 1}"
      ]
     },
     "execution_count": 77,
     "metadata": {},
     "output_type": "execute_result"
    }
   ],
   "source": [
    "# EXTRA: si quisiésemos contar las palabras con un diccionario, como antes:\n",
    "\n",
    "{a:poemlist.count(a) for a in notinblacklist}"
   ]
  },
  {
   "cell_type": "markdown",
   "metadata": {},
   "source": [
    "# Challenge 3 - Regular Expressions\n",
    "\n",
    "Sometimes, we would like to perform more complex manipulations of our string. This is where regular expressions come in handy. In the cell below, return all characters that are upper case from the string specified below."
   ]
  },
  {
   "cell_type": "code",
   "execution_count": 94,
   "metadata": {},
   "outputs": [
    {
     "data": {
      "text/plain": [
       "['T', 'P']"
      ]
     },
     "execution_count": 94,
     "metadata": {},
     "output_type": "execute_result"
    }
   ],
   "source": [
    "poem = \"\"\"The apparition of these faces in the crowd;\n",
    "Petals on a wet, black bough.\"\"\"\n",
    "\n",
    "# Your code here:\n",
    "\n",
    "# CON REGEX\n",
    "\n",
    "import re\n",
    "\n",
    "re.findall('[A-Z]', poem)\n"
   ]
  },
  {
   "cell_type": "code",
   "execution_count": 92,
   "metadata": {},
   "outputs": [
    {
     "data": {
      "text/plain": [
       "['T', 'P']"
      ]
     },
     "execution_count": 92,
     "metadata": {},
     "output_type": "execute_result"
    }
   ],
   "source": [
    "# SIN REGEX:\n",
    "[a for a in poem if a.isupper()]"
   ]
  },
  {
   "cell_type": "markdown",
   "metadata": {},
   "source": [
    "In the cell below, filter the list provided and return all elements of the list containing a number. To filter the list, use the `re.search` function. Check if the function does not return `None`. You can read more about the `re.search` function [here](https://docs.python.org/3/library/re.html)."
   ]
  },
  {
   "cell_type": "code",
   "execution_count": 119,
   "metadata": {},
   "outputs": [
    {
     "data": {
      "text/plain": [
       "<re.Match object; span=(2, 8), match='123abc'>"
      ]
     },
     "execution_count": 119,
     "metadata": {},
     "output_type": "execute_result"
    }
   ],
   "source": [
    "data = ['123abc', 'abc123', 'JohnSmith1', 'ABBY4', 'JANE']\n",
    "\n",
    "# Your code here:\n",
    "\n",
    "# CON REGEX\n",
    "\n",
    "re.search('\\w*\\d+\\w*', str(data))\n"
   ]
  },
  {
   "cell_type": "code",
   "execution_count": 120,
   "metadata": {},
   "outputs": [
    {
     "data": {
      "text/plain": [
       "['123abc', 'abc123', 'JohnSmith1', 'ABBY4']"
      ]
     },
     "execution_count": 120,
     "metadata": {},
     "output_type": "execute_result"
    }
   ],
   "source": [
    "re.findall('\\w*\\d+\\w*', str(data))"
   ]
  },
  {
   "cell_type": "code",
   "execution_count": 121,
   "metadata": {},
   "outputs": [
    {
     "data": {
      "text/plain": [
       "['ABBY4', 'JohnSmith1', '123abc', 'abc123']"
      ]
     },
     "execution_count": 121,
     "metadata": {},
     "output_type": "execute_result"
    }
   ],
   "source": [
    "# SIN REGEX\n",
    "list(set([a for a in data for b in a if b.isnumeric()]))"
   ]
  },
  {
   "cell_type": "markdown",
   "metadata": {},
   "source": [
    "# Bonus Challenge - Regular Expressions II\n",
    "\n",
    "In the cell below, filter the list provided to keep only strings containing at least one digit and at least one lower case letter. As in the previous question, use the `re.search` function and check that the result is not `None`.\n",
    "\n",
    "To read more about regular expressions, check out [this link](https://developers.google.com/edu/python/regular-expressions)."
   ]
  },
  {
   "cell_type": "code",
   "execution_count": 122,
   "metadata": {},
   "outputs": [
    {
     "data": {
      "text/plain": [
       "<re.Match object; span=(2, 8), match='123abc'>"
      ]
     },
     "execution_count": 122,
     "metadata": {},
     "output_type": "execute_result"
    }
   ],
   "source": [
    "data = ['123abc', 'abc123', 'JohnSmith1', 'ABBY4', 'JANE']\n",
    "# Your code here:\n",
    "re.search('\\w*[a-z]+\\d+\\w*|\\w*\\d+[a-z]+\\w*', str(data))\n"
   ]
  },
  {
   "cell_type": "code",
   "execution_count": 123,
   "metadata": {},
   "outputs": [
    {
     "name": "stdout",
     "output_type": "stream",
     "text": [
      "['123abc', 'abc123', 'JohnSmith1']\n"
     ]
    }
   ],
   "source": [
    "print(re.findall('\\w*[a-z]+\\d+\\w*|\\w*\\d+[a-z]+\\w*', str(data)))"
   ]
  }
 ],
 "metadata": {
  "kernelspec": {
   "display_name": "Python 3",
   "language": "python",
   "name": "python3"
  },
  "language_info": {
   "codemirror_mode": {
    "name": "ipython",
    "version": 3
   },
   "file_extension": ".py",
   "mimetype": "text/x-python",
   "name": "python",
   "nbconvert_exporter": "python",
   "pygments_lexer": "ipython3",
   "version": "3.8.5"
  },
  "toc": {
   "base_numbering": 1,
   "nav_menu": {},
   "number_sections": true,
   "sideBar": true,
   "skip_h1_title": false,
   "title_cell": "Table of Contents",
   "title_sidebar": "Contents",
   "toc_cell": false,
   "toc_position": {},
   "toc_section_display": true,
   "toc_window_display": false
  },
  "varInspector": {
   "cols": {
    "lenName": 16,
    "lenType": 16,
    "lenVar": 40
   },
   "kernels_config": {
    "python": {
     "delete_cmd_postfix": "",
     "delete_cmd_prefix": "del ",
     "library": "var_list.py",
     "varRefreshCmd": "print(var_dic_list())"
    },
    "r": {
     "delete_cmd_postfix": ") ",
     "delete_cmd_prefix": "rm(",
     "library": "var_list.r",
     "varRefreshCmd": "cat(var_dic_list()) "
    }
   },
   "types_to_exclude": [
    "module",
    "function",
    "builtin_function_or_method",
    "instance",
    "_Feature"
   ],
   "window_display": false
  }
 },
 "nbformat": 4,
 "nbformat_minor": 2
}
